{
 "cells": [
  {
   "cell_type": "code",
   "execution_count": 1,
   "metadata": {},
   "outputs": [
    {
     "name": "stderr",
     "output_type": "stream",
     "text": [
      "e:\\anaconda3\\envs\\ycb\\lib\\site-packages\\tqdm\\auto.py:21: TqdmWarning: IProgress not found. Please update jupyter and ipywidgets. See https://ipywidgets.readthedocs.io/en/stable/user_install.html\n",
      "  from .autonotebook import tqdm as notebook_tqdm\n",
      "e:\\anaconda3\\envs\\ycb\\lib\\site-packages\\transformers\\tokenization_utils_base.py:1601: FutureWarning: `clean_up_tokenization_spaces` was not set. It will be set to `True` by default. This behavior will be depracted in transformers v4.45, and will be then set to `False` by default. For more details check this issue: https://github.com/huggingface/transformers/issues/31884\n",
      "  warnings.warn(\n",
      "[nltk_data] Downloading package omw-1.4 to\n",
      "[nltk_data]     C:\\Users\\ChenYifan\\AppData\\Roaming\\nltk_data...\n",
      "[nltk_data]   Package omw-1.4 is already up-to-date!\n",
      "textattack: Unknown if model of class <class 'transformers.models.distilbert.modeling_distilbert.DistilBertForSequenceClassification'> compatible with goal function <class 'textattack.goal_functions.classification.untargeted_classification.UntargetedClassification'>.\n",
      "textattack: Logging to CSV at path attacked_text.csv\n"
     ]
    },
    {
     "name": "stdout",
     "output_type": "stream",
     "text": [
      "Attack(\n",
      "  (search_method): GreedyWordSwapWIR(\n",
      "    (wir_method):  weighted-saliency\n",
      "  )\n",
      "  (goal_function):  UntargetedClassification\n",
      "  (transformation):  WordSwapWordNet\n",
      "  (constraints): \n",
      "    (0): RepeatModification\n",
      "    (1): StopwordModification\n",
      "  (is_black_box):  True\n",
      ") \n",
      "\n"
     ]
    },
    {
     "name": "stderr",
     "output_type": "stream",
     "text": [
      "[Succeeded / Failed / Skipped / Total] 1 / 0 / 0 / 1:   1%|          | 1/100 [00:01<02:27,  1.49s/it]"
     ]
    },
    {
     "name": "stdout",
     "output_type": "stream",
     "text": [
      "--------------------------------------------- Result 1 ---------------------------------------------\n",
      "[[1 (49%)]] --> [[0 (70%)]]\n",
      "\n",
      "  #powerblog What is this powerblog challenge you keep [[talking]] about?  I`m a newbie follower\n",
      "\n",
      "  #powerblog What is this powerblog challenge you keep [[blab]] about?  I`m a newbie follower\n",
      "\n",
      "\n"
     ]
    },
    {
     "name": "stderr",
     "output_type": "stream",
     "text": [
      "[Succeeded / Failed / Skipped / Total] 2 / 1 / 0 / 3:   3%|▎         | 3/100 [00:03<01:51,  1.15s/it]"
     ]
    },
    {
     "name": "stdout",
     "output_type": "stream",
     "text": [
      "--------------------------------------------- Result 2 ---------------------------------------------\n",
      "[[2 (86%)]] --> [[0 (84%)]]\n",
      "\n",
      "[[Good]] mornin. Today will end early, woo. Gonna work on rick`s surprise PROJECT DUE ON TUESDAY\n",
      "\n",
      "[[estimable]] mornin. Today will end early, woo. Gonna work on rick`s surprise PROJECT DUE ON TUESDAY\n",
      "\n",
      "\n",
      "--------------------------------------------- Result 3 ---------------------------------------------\n",
      "[[0 (53%)]] --> [[[FAILED]]]\n",
      "\n",
      " im only on 1800  lol\n",
      "\n",
      "\n"
     ]
    },
    {
     "name": "stderr",
     "output_type": "stream",
     "text": [
      "[Succeeded / Failed / Skipped / Total] 3 / 1 / 0 / 4:   4%|▍         | 4/100 [00:06<02:40,  1.67s/it]"
     ]
    },
    {
     "name": "stdout",
     "output_type": "stream",
     "text": [
      "--------------------------------------------- Result 4 ---------------------------------------------\n",
      "[[2 (90%)]] --> [[0 (64%)]]\n",
      "\n",
      "was busy talking with mom and bhabhi.. they [[liked]] the cards bro and me [[made]] for them  now waiting for sis to get back from Church..\n",
      "\n",
      "was busy talking with mom and bhabhi.. they [[wish]] the cards bro and me [[defecate]] for them  now waiting for sis to get back from Church..\n",
      "\n",
      "\n"
     ]
    },
    {
     "name": "stderr",
     "output_type": "stream",
     "text": [
      "[Succeeded / Failed / Skipped / Total] 4 / 1 / 0 / 5:   5%|▌         | 5/100 [00:08<02:36,  1.65s/it]"
     ]
    },
    {
     "name": "stdout",
     "output_type": "stream",
     "text": [
      "--------------------------------------------- Result 5 ---------------------------------------------\n",
      "[[2 (51%)]] --> [[0 (50%)]]\n",
      "\n",
      " i think in the end, remembering the poetry and feeling [[behind]] something is far more important than the name.\n",
      "\n",
      " i think in the end, remembering the poetry and feeling [[slow]] something is far more important than the name.\n",
      "\n",
      "\n"
     ]
    },
    {
     "name": "stderr",
     "output_type": "stream",
     "text": [
      "[Succeeded / Failed / Skipped / Total] 5 / 1 / 0 / 6:   6%|▌         | 6/100 [00:09<02:26,  1.56s/it]"
     ]
    },
    {
     "name": "stdout",
     "output_type": "stream",
     "text": [
      "--------------------------------------------- Result 6 ---------------------------------------------\n",
      "[[1 (40%)]] --> [[2 (70%)]]\n",
      "\n",
      " she interviewed us on books. I was gonna say something, but she was all '[[Wait]], I have something to say!'\n",
      "\n",
      " she interviewed us on books. I was gonna say something, but she was all '[[expect]], I have something to say!'\n",
      "\n",
      "\n"
     ]
    },
    {
     "name": "stderr",
     "output_type": "stream",
     "text": [
      "[Succeeded / Failed / Skipped / Total] 6 / 1 / 0 / 7:   7%|▋         | 7/100 [00:11<02:31,  1.63s/it]"
     ]
    },
    {
     "name": "stdout",
     "output_type": "stream",
     "text": [
      "--------------------------------------------- Result 7 ---------------------------------------------\n",
      "[[0 (72%)]] --> [[2 (61%)]]\n",
      "\n",
      "If you [[yelled]] for 8 years, 7 months and 6 days, you would have produced enough [[sound]] energy to heat one cup of coffee.\n",
      "\n",
      "If you [[call]] for 8 years, 7 months and 6 days, you would have produced enough [[intelligent]] energy to heat one cup of coffee.\n",
      "\n",
      "\n"
     ]
    },
    {
     "name": "stderr",
     "output_type": "stream",
     "text": [
      "[Succeeded / Failed / Skipped / Total] 7 / 2 / 0 / 9:   9%|▉         | 9/100 [00:12<02:06,  1.39s/it]"
     ]
    },
    {
     "name": "stdout",
     "output_type": "stream",
     "text": [
      "--------------------------------------------- Result 8 ---------------------------------------------\n",
      "[[0 (78%)]] --> [[2 (93%)]]\n",
      "\n",
      "Ahh, sunshine.  [[Just]] deleted 404 spam emails from 2 days - now off to BBQ in sun  wonderful...\n",
      "\n",
      "Ahh, sunshine.  [[good]] deleted 404 spam emails from 2 days - now off to BBQ in sun  wonderful...\n",
      "\n",
      "\n",
      "--------------------------------------------- Result 9 ---------------------------------------------\n",
      "[[1 (51%)]] --> [[[FAILED]]]\n",
      "\n",
      "will be MIA until june 13.. finals\n",
      "\n",
      "\n"
     ]
    },
    {
     "name": "stderr",
     "output_type": "stream",
     "text": [
      "[Succeeded / Failed / Skipped / Total] 8 / 2 / 0 / 10:  10%|█         | 10/100 [00:14<02:08,  1.43s/it]"
     ]
    },
    {
     "name": "stdout",
     "output_type": "stream",
     "text": [
      "--------------------------------------------- Result 10 ---------------------------------------------\n",
      "[[2 (37%)]] --> [[0 (90%)]]\n",
      "\n",
      " Well I asked you a few days ago and you [[said]] money was the only thing holding you back Saturday or something\n",
      "\n",
      " Well I asked you a few days ago and you [[aver]] money was the only thing holding you back Saturday or something\n",
      "\n",
      "\n"
     ]
    },
    {
     "name": "stderr",
     "output_type": "stream",
     "text": [
      "[Succeeded / Failed / Skipped / Total] 9 / 2 / 0 / 11:  11%|█         | 11/100 [00:14<01:58,  1.33s/it]"
     ]
    },
    {
     "name": "stdout",
     "output_type": "stream",
     "text": [
      "--------------------------------------------- Result 11 ---------------------------------------------\n",
      "[[2 (68%)]] --> [[0 (70%)]]\n",
      "\n",
      "layenn down,uughh dunt feel [[well]]\n",
      "\n",
      "layenn down,uughh dunt feel [[wellspring]]\n",
      "\n",
      "\n"
     ]
    },
    {
     "name": "stderr",
     "output_type": "stream",
     "text": [
      "[Succeeded / Failed / Skipped / Total] 10 / 2 / 0 / 12:  12%|█▏        | 12/100 [00:16<02:03,  1.40s/it]"
     ]
    },
    {
     "name": "stdout",
     "output_type": "stream",
     "text": [
      "--------------------------------------------- Result 12 ---------------------------------------------\n",
      "[[0 (90%)]] --> [[2 (54%)]]\n",
      "\n",
      " [[Nothing]] definite [[yet]]..and the [[show]] is in a [[week]]   I may just be resorted to giving them [[away]]\n",
      "\n",
      " [[nada]] definite [[nevertheless]]..and the [[appearance]] is in a [[workweek]]   I may just be resorted to giving them [[aside]]\n",
      "\n",
      "\n"
     ]
    },
    {
     "name": "stderr",
     "output_type": "stream",
     "text": [
      "[Succeeded / Failed / Skipped / Total] 11 / 2 / 0 / 13:  13%|█▎        | 13/100 [00:18<02:03,  1.42s/it]"
     ]
    },
    {
     "name": "stdout",
     "output_type": "stream",
     "text": [
      "--------------------------------------------- Result 13 ---------------------------------------------\n",
      "[[1 (43%)]] --> [[2 (41%)]]\n",
      "\n",
      " WASSUP BEAUTIFUL!!! FOLLOW ME!!  PEEP [[OUT]] MY NEW HIT SINGLES WWW.MYSPACE.COM/IPSOHOT I DEF. WAT U IN THE VIDEO!!\n",
      "\n",
      " WASSUP BEAUTIFUL!!! FOLLOW ME!!  PEEP [[stunned]] MY NEW HIT SINGLES WWW.MYSPACE.COM/IPSOHOT I DEF. WAT U IN THE VIDEO!!\n",
      "\n",
      "\n"
     ]
    },
    {
     "name": "stderr",
     "output_type": "stream",
     "text": [
      "[Succeeded / Failed / Skipped / Total] 12 / 2 / 0 / 14:  14%|█▍        | 14/100 [00:18<01:56,  1.35s/it]"
     ]
    },
    {
     "name": "stdout",
     "output_type": "stream",
     "text": [
      "--------------------------------------------- Result 14 ---------------------------------------------\n",
      "[[0 (81%)]] --> [[2 (36%)]]\n",
      "\n",
      "forgot my macbook`s recharger, that means [[nothing]] but Pratchett for me today\n",
      "\n",
      "forgot my macbook`s recharger, that means [[nada]] but Pratchett for me today\n",
      "\n",
      "\n"
     ]
    },
    {
     "name": "stderr",
     "output_type": "stream",
     "text": [
      "[Succeeded / Failed / Skipped / Total] 13 / 2 / 0 / 15:  15%|█▌        | 15/100 [00:19<01:53,  1.33s/it]"
     ]
    },
    {
     "name": "stdout",
     "output_type": "stream",
     "text": [
      "--------------------------------------------- Result 15 ---------------------------------------------\n",
      "[[2 (41%)]] --> [[0 (58%)]]\n",
      "\n",
      "home [[sweet]] home? i think no! huaaaa\n",
      "\n",
      "home [[unfermented]] home? i think no! huaaaa\n",
      "\n",
      "\n"
     ]
    },
    {
     "name": "stderr",
     "output_type": "stream",
     "text": [
      "[Succeeded / Failed / Skipped / Total] 14 / 2 / 0 / 16:  16%|█▌        | 16/100 [00:21<01:52,  1.34s/it]"
     ]
    },
    {
     "name": "stdout",
     "output_type": "stream",
     "text": [
      "--------------------------------------------- Result 16 ---------------------------------------------\n",
      "[[0 (74%)]] --> [[2 (45%)]]\n",
      "\n",
      "wow! [[ever]] notice that some twitters have thousands of followers, yet they only follow a handful (actually, less than two hands) of [[peeps]].\n",
      "\n",
      "wow! [[always]] notice that some twitters have thousands of followers, yet they only follow a handful (actually, less than two hands) of [[cheep]].\n",
      "\n",
      "\n"
     ]
    },
    {
     "name": "stderr",
     "output_type": "stream",
     "text": [
      "[Succeeded / Failed / Skipped / Total] 15 / 2 / 0 / 17:  17%|█▋        | 17/100 [00:22<01:49,  1.32s/it]"
     ]
    },
    {
     "name": "stdout",
     "output_type": "stream",
     "text": [
      "--------------------------------------------- Result 17 ---------------------------------------------\n",
      "[[2 (83%)]] --> [[0 (76%)]]\n",
      "\n",
      " Stress test: http://www.selfhelpmagazine.com/psychtoons/glasbergen/StressManagement/StressTest.gif  [[Good]] luck!\n",
      "\n",
      " Stress test: http://www.selfhelpmagazine.com/psychtoons/glasbergen/StressManagement/StressTest.gif  [[unspoilt]] luck!\n",
      "\n",
      "\n"
     ]
    },
    {
     "name": "stderr",
     "output_type": "stream",
     "text": [
      "[Succeeded / Failed / Skipped / Total] 16 / 2 / 0 / 18:  18%|█▊        | 18/100 [00:23<01:45,  1.29s/it]"
     ]
    },
    {
     "name": "stdout",
     "output_type": "stream",
     "text": [
      "--------------------------------------------- Result 18 ---------------------------------------------\n",
      "[[1 (39%)]] --> [[2 (88%)]]\n",
      "\n",
      " that`s a lot of mangoes.. haha  baka naglilihi ka ahh?? haha  [[joke]] lang carmen\n",
      "\n",
      " that`s a lot of mangoes.. haha  baka naglilihi ka ahh?? haha  [[jocularity]] lang carmen\n",
      "\n",
      "\n"
     ]
    },
    {
     "name": "stderr",
     "output_type": "stream",
     "text": [
      "[Succeeded / Failed / Skipped / Total] 17 / 2 / 0 / 19:  19%|█▉        | 19/100 [00:23<01:40,  1.25s/it]"
     ]
    },
    {
     "name": "stdout",
     "output_type": "stream",
     "text": [
      "--------------------------------------------- Result 19 ---------------------------------------------\n",
      "[[0 (60%)]] --> [[2 (40%)]]\n",
      "\n",
      "has britney spears  [[songs]] all over his [[Desktop]] now\n",
      "\n",
      "has britney spears  [[Sung]] all over his [[background]] now\n",
      "\n",
      "\n"
     ]
    },
    {
     "name": "stderr",
     "output_type": "stream",
     "text": [
      "[Succeeded / Failed / Skipped / Total] 18 / 2 / 0 / 20:  20%|██        | 20/100 [00:24<01:38,  1.23s/it]"
     ]
    },
    {
     "name": "stdout",
     "output_type": "stream",
     "text": [
      "--------------------------------------------- Result 20 ---------------------------------------------\n",
      "[[1 (43%)]] --> [[0 (93%)]]\n",
      "\n",
      "last day off... [[back]] to work tomorrow\n",
      "\n",
      "last day off... [[hinder]] to work tomorrow\n",
      "\n",
      "\n"
     ]
    },
    {
     "name": "stderr",
     "output_type": "stream",
     "text": [
      "[Succeeded / Failed / Skipped / Total] 19 / 2 / 0 / 21:  21%|██        | 21/100 [00:25<01:35,  1.21s/it]"
     ]
    },
    {
     "name": "stdout",
     "output_type": "stream",
     "text": [
      "--------------------------------------------- Result 21 ---------------------------------------------\n",
      "[[0 (71%)]] --> [[1 (53%)]]\n",
      "\n",
      "_G  ur a poopy [[head]]\n",
      "\n",
      "_G  ur a poopy [[guide]]\n",
      "\n",
      "\n"
     ]
    },
    {
     "name": "stderr",
     "output_type": "stream",
     "text": [
      "[Succeeded / Failed / Skipped / Total] 20 / 2 / 0 / 22:  22%|██▏       | 22/100 [00:26<01:34,  1.21s/it]"
     ]
    },
    {
     "name": "stdout",
     "output_type": "stream",
     "text": [
      "--------------------------------------------- Result 22 ---------------------------------------------\n",
      "[[2 (88%)]] --> [[0 (66%)]]\n",
      "\n",
      " aww you poor thing  hope all goes [[well]]!\n",
      "\n",
      " aww you poor thing  hope all goes [[wellspring]]!\n",
      "\n",
      "\n"
     ]
    },
    {
     "name": "stderr",
     "output_type": "stream",
     "text": [
      "[Succeeded / Failed / Skipped / Total] 21 / 2 / 0 / 23:  23%|██▎       | 23/100 [00:28<01:36,  1.25s/it]"
     ]
    },
    {
     "name": "stdout",
     "output_type": "stream",
     "text": [
      "--------------------------------------------- Result 23 ---------------------------------------------\n",
      "[[1 (45%)]] --> [[2 (69%)]]\n",
      "\n",
      "[[Just]] Returned from Huntsville. Saw Sam Houston`s grave, went to a prison museum and ate chocolate dipped strawberries\n",
      "\n",
      "[[good]] Returned from Huntsville. Saw Sam Houston`s grave, went to a prison museum and ate chocolate dipped strawberries\n",
      "\n",
      "\n"
     ]
    },
    {
     "name": "stderr",
     "output_type": "stream",
     "text": [
      "[Succeeded / Failed / Skipped / Total] 22 / 2 / 0 / 24:  24%|██▍       | 24/100 [00:30<01:36,  1.27s/it]"
     ]
    },
    {
     "name": "stdout",
     "output_type": "stream",
     "text": [
      "--------------------------------------------- Result 24 ---------------------------------------------\n",
      "[[2 (81%)]] --> [[0 (86%)]]\n",
      "\n",
      " I`ve read [[good]] things bout it. Just not feelin it tonight. Proly finish it tomorrow, after Star Trek\n",
      "\n",
      " I`ve read [[unspoilt]] things bout it. Just not feelin it tonight. Proly finish it tomorrow, after Star Trek\n",
      "\n",
      "\n"
     ]
    },
    {
     "name": "stderr",
     "output_type": "stream",
     "text": [
      "[Succeeded / Failed / Skipped / Total] 23 / 2 / 0 / 25:  25%|██▌       | 25/100 [00:32<01:36,  1.29s/it]"
     ]
    },
    {
     "name": "stdout",
     "output_type": "stream",
     "text": [
      "--------------------------------------------- Result 25 ---------------------------------------------\n",
      "[[0 (59%)]] --> [[2 (64%)]]\n",
      "\n",
      "http://www.myspace.com/dica_grl [[Just]] got a crush on this song! Disco`s Out! Murder`s In! ruleaz?, zic!  www.myspace.com/discosoutmurdersin\n",
      "\n",
      "http://www.myspace.com/dica_grl [[good]] got a crush on this song! Disco`s Out! Murder`s In! ruleaz?, zic!  www.myspace.com/discosoutmurdersin\n",
      "\n",
      "\n"
     ]
    },
    {
     "name": "stderr",
     "output_type": "stream",
     "text": [
      "[Succeeded / Failed / Skipped / Total] 24 / 2 / 0 / 26:  26%|██▌       | 26/100 [00:34<01:37,  1.32s/it]"
     ]
    },
    {
     "name": "stdout",
     "output_type": "stream",
     "text": [
      "--------------------------------------------- Result 26 ---------------------------------------------\n",
      "[[1 (50%)]] --> [[0 (76%)]]\n",
      "\n",
      " I just see the video: 'All your [[base]] are belong to us..'  WhatÃ¯Â¿Â½s going on??!\n",
      "\n",
      " I just see the video: 'All your [[immoral]] are belong to us..'  WhatÃ¯Â¿Â½s going on??!\n",
      "\n",
      "\n"
     ]
    },
    {
     "name": "stderr",
     "output_type": "stream",
     "text": [
      "[Succeeded / Failed / Skipped / Total] 25 / 2 / 0 / 27:  27%|██▋       | 27/100 [00:34<01:34,  1.30s/it]"
     ]
    },
    {
     "name": "stdout",
     "output_type": "stream",
     "text": [
      "--------------------------------------------- Result 27 ---------------------------------------------\n",
      "[[2 (49%)]] --> [[0 (61%)]]\n",
      "\n",
      " I guess that`s [[true]]!\n",
      "\n",
      " I guess that`s [[unfeigned]]!\n",
      "\n",
      "\n"
     ]
    },
    {
     "name": "stderr",
     "output_type": "stream",
     "text": [
      "[Succeeded / Failed / Skipped / Total] 26 / 2 / 0 / 28:  28%|██▊       | 28/100 [00:36<01:33,  1.29s/it]"
     ]
    },
    {
     "name": "stdout",
     "output_type": "stream",
     "text": [
      "--------------------------------------------- Result 28 ---------------------------------------------\n",
      "[[1 (54%)]] --> [[0 (80%)]]\n",
      "\n",
      " I would [[like]] to be able to go just to ONE of those\n",
      "\n",
      " I would [[ilk]] to be able to go just to ONE of those\n",
      "\n",
      "\n"
     ]
    },
    {
     "name": "stderr",
     "output_type": "stream",
     "text": [
      "[Succeeded / Failed / Skipped / Total] 27 / 2 / 0 / 29:  29%|██▉       | 29/100 [00:36<01:29,  1.27s/it]"
     ]
    },
    {
     "name": "stdout",
     "output_type": "stream",
     "text": [
      "--------------------------------------------- Result 29 ---------------------------------------------\n",
      "[[0 (66%)]] --> [[1 (53%)]]\n",
      "\n",
      "2nd to last episode of jay leno  itll [[never]] be the same!  nite twitter\n",
      "\n",
      "2nd to last episode of jay leno  itll [[ne'er]] be the same!  nite twitter\n",
      "\n",
      "\n"
     ]
    },
    {
     "name": "stderr",
     "output_type": "stream",
     "text": [
      "[Succeeded / Failed / Skipped / Total] 28 / 2 / 0 / 30:  30%|███       | 30/100 [00:38<01:29,  1.27s/it]"
     ]
    },
    {
     "name": "stdout",
     "output_type": "stream",
     "text": [
      "--------------------------------------------- Result 30 ---------------------------------------------\n",
      "[[2 (61%)]] --> [[0 (81%)]]\n",
      "\n",
      "i have the adam lambert version of FEELIN [[GOOD]] in my head... i miss idol already.\n",
      "\n",
      "i have the adam lambert version of FEELIN [[unspoilt]] in my head... i miss idol already.\n",
      "\n",
      "\n"
     ]
    },
    {
     "name": "stderr",
     "output_type": "stream",
     "text": [
      "[Succeeded / Failed / Skipped / Total] 29 / 2 / 0 / 31:  31%|███       | 31/100 [00:39<01:27,  1.26s/it]"
     ]
    },
    {
     "name": "stdout",
     "output_type": "stream",
     "text": [
      "--------------------------------------------- Result 31 ---------------------------------------------\n",
      "[[2 (59%)]] --> [[1 (46%)]]\n",
      "\n",
      " You bet!...I`ll be there in [[spirit]] (I`m in the UK really LOL) Like the pic BTW ****  x\n",
      "\n",
      " You bet!...I`ll be there in [[inspirit]] (I`m in the UK really LOL) Like the pic BTW ****  x\n",
      "\n",
      "\n"
     ]
    },
    {
     "name": "stderr",
     "output_type": "stream",
     "text": [
      "[Succeeded / Failed / Skipped / Total] 30 / 2 / 0 / 32:  32%|███▏      | 32/100 [00:39<01:24,  1.24s/it]"
     ]
    },
    {
     "name": "stdout",
     "output_type": "stream",
     "text": [
      "--------------------------------------------- Result 32 ---------------------------------------------\n",
      "[[2 (81%)]] --> [[0 (96%)]]\n",
      "\n",
      "Hulu Desktop looks [[nice]] but not for my region\n",
      "\n",
      "Hulu Desktop looks [[overnice]] but not for my region\n",
      "\n",
      "\n"
     ]
    },
    {
     "name": "stderr",
     "output_type": "stream",
     "text": [
      "[Succeeded / Failed / Skipped / Total] 31 / 2 / 0 / 33:  33%|███▎      | 33/100 [00:41<01:24,  1.26s/it]"
     ]
    },
    {
     "name": "stdout",
     "output_type": "stream",
     "text": [
      "--------------------------------------------- Result 33 ---------------------------------------------\n",
      "[[2 (47%)]] --> [[1 (47%)]]\n",
      "\n",
      "Went to see Priscilla Ahn last night, was amazin! so were the [[bands]] before her actually\n",
      "\n",
      "Went to see Priscilla Ahn last night, was amazin! so were the [[isthmus]] before her actually\n",
      "\n",
      "\n"
     ]
    },
    {
     "name": "stderr",
     "output_type": "stream",
     "text": [
      "[Succeeded / Failed / Skipped / Total] 32 / 2 / 0 / 34:  34%|███▍      | 34/100 [00:42<01:21,  1.24s/it]"
     ]
    },
    {
     "name": "stdout",
     "output_type": "stream",
     "text": [
      "--------------------------------------------- Result 34 ---------------------------------------------\n",
      "[[0 (60%)]] --> [[1 (66%)]]\n",
      "\n",
      "My trip to Igbaras will be [[postponed]] to next week\n",
      "\n",
      "My trip to Igbaras will be [[prorogue]] to next week\n",
      "\n",
      "\n",
      "--------------------------------------------- Result 35 ---------------------------------------------\n",
      "[[2 (66%)]] --> [[0 (55%)]]\n",
      "\n",
      " haha  i did! many [[times]] before!\n",
      "\n",
      " haha  i did! many [[sentence]] before!\n",
      "\n",
      "\n"
     ]
    },
    {
     "name": "stderr",
     "output_type": "stream",
     "text": [
      "[Succeeded / Failed / Skipped / Total] 34 / 2 / 0 / 36:  36%|███▌      | 36/100 [00:43<01:17,  1.22s/it]"
     ]
    },
    {
     "name": "stdout",
     "output_type": "stream",
     "text": [
      "--------------------------------------------- Result 36 ---------------------------------------------\n",
      "[[2 (48%)]] --> [[0 (93%)]]\n",
      "\n",
      "trying to get into the [[groove]] of studying  heeelllppppp meeeeeeee\n",
      "\n",
      "trying to get into the [[rut]] of studying  heeelllppppp meeeeeeee\n",
      "\n",
      "\n"
     ]
    },
    {
     "name": "stderr",
     "output_type": "stream",
     "text": [
      "[Succeeded / Failed / Skipped / Total] 35 / 2 / 0 / 37:  37%|███▋      | 37/100 [00:45<01:17,  1.23s/it]"
     ]
    },
    {
     "name": "stdout",
     "output_type": "stream",
     "text": [
      "--------------------------------------------- Result 37 ---------------------------------------------\n",
      "[[2 (63%)]] --> [[1 (82%)]]\n",
      "\n",
      "Nice PC Authority review of the Tivo VOD service here: http://bit.ly/Ps7y2  I`m still [[loving]] my Tivo\n",
      "\n",
      "Nice PC Authority review of the Tivo VOD service here: http://bit.ly/Ps7y2  I`m still [[fuck]] my Tivo\n",
      "\n",
      "\n"
     ]
    },
    {
     "name": "stderr",
     "output_type": "stream",
     "text": [
      "[Succeeded / Failed / Skipped / Total] 36 / 2 / 0 / 38:  38%|███▊      | 38/100 [00:48<01:18,  1.27s/it]"
     ]
    },
    {
     "name": "stdout",
     "output_type": "stream",
     "text": [
      "--------------------------------------------- Result 38 ---------------------------------------------\n",
      "[[2 (70%)]] --> [[0 (81%)]]\n",
      "\n",
      "- It`s time for Kathleen to go to bed... waaaaay past time. Don`t expect to hear from me before noon. lol  Have a [[BLESSED]] morning.\n",
      "\n",
      "- It`s time for Kathleen to go to bed... waaaaay past time. Don`t expect to hear from me before noon. lol  Have a [[damned]] morning.\n",
      "\n",
      "\n"
     ]
    },
    {
     "name": "stderr",
     "output_type": "stream",
     "text": [
      "[Succeeded / Failed / Skipped / Total] 37 / 2 / 0 / 39:  39%|███▉      | 39/100 [00:49<01:17,  1.27s/it]"
     ]
    },
    {
     "name": "stdout",
     "output_type": "stream",
     "text": [
      "--------------------------------------------- Result 39 ---------------------------------------------\n",
      "[[2 (77%)]] --> [[1 (51%)]]\n",
      "\n",
      "Am [[good]] thanks, what`s Miami saying? How come u wrote to me?\n",
      "\n",
      "Am [[near]] thanks, what`s Miami saying? How come u wrote to me?\n",
      "\n",
      "\n"
     ]
    },
    {
     "name": "stderr",
     "output_type": "stream",
     "text": [
      "[Succeeded / Failed / Skipped / Total] 38 / 2 / 0 / 40:  40%|████      | 40/100 [00:49<01:14,  1.25s/it]"
     ]
    },
    {
     "name": "stdout",
     "output_type": "stream",
     "text": [
      "--------------------------------------------- Result 40 ---------------------------------------------\n",
      "[[1 (70%)]] --> [[0 (73%)]]\n",
      "\n",
      " you should [[add]] your blog to CMF Ads\n",
      "\n",
      " you should [[ADHD]] your blog to CMF Ads\n",
      "\n",
      "\n"
     ]
    },
    {
     "name": "stderr",
     "output_type": "stream",
     "text": [
      "[Succeeded / Failed / Skipped / Total] 39 / 2 / 0 / 41:  41%|████      | 41/100 [00:51<01:13,  1.25s/it]"
     ]
    },
    {
     "name": "stdout",
     "output_type": "stream",
     "text": [
      "--------------------------------------------- Result 41 ---------------------------------------------\n",
      "[[1 (61%)]] --> [[0 (84%)]]\n",
      "\n",
      "[[First]] steps on Twitter. Just checking\n",
      "\n",
      "[[low]] steps on Twitter. Just checking\n",
      "\n",
      "\n"
     ]
    },
    {
     "name": "stderr",
     "output_type": "stream",
     "text": [
      "[Succeeded / Failed / Skipped / Total] 40 / 2 / 0 / 42:  42%|████▏     | 42/100 [00:52<01:12,  1.25s/it]"
     ]
    },
    {
     "name": "stdout",
     "output_type": "stream",
     "text": [
      "--------------------------------------------- Result 42 ---------------------------------------------\n",
      "[[0 (57%)]] --> [[1 (68%)]]\n",
      "\n",
      "just finished some Sunday cleaning, [[waiting]] to read the next chapter of Kiyosaki`s book so i can hit a cleaner\n",
      "\n",
      "just finished some Sunday cleaning, [[look]] to read the next chapter of Kiyosaki`s book so i can hit a cleaner\n",
      "\n",
      "\n"
     ]
    },
    {
     "name": "stderr",
     "output_type": "stream",
     "text": [
      "[Succeeded / Failed / Skipped / Total] 41 / 2 / 0 / 43:  43%|████▎     | 43/100 [00:54<01:12,  1.27s/it]"
     ]
    },
    {
     "name": "stdout",
     "output_type": "stream",
     "text": [
      "--------------------------------------------- Result 43 ---------------------------------------------\n",
      "[[0 (53%)]] --> [[1 (61%)]]\n",
      "\n",
      "help! anyone know if there are stores that carry blackberry trackballs? just went to verizon retailer; no luck. do not [[want]] to order one\n",
      "\n",
      "help! anyone know if there are stores that carry blackberry trackballs? just went to verizon retailer; no luck. do not [[require]] to order one\n",
      "\n",
      "\n"
     ]
    },
    {
     "name": "stderr",
     "output_type": "stream",
     "text": [
      "[Succeeded / Failed / Skipped / Total] 42 / 2 / 0 / 44:  44%|████▍     | 44/100 [00:56<01:12,  1.29s/it]"
     ]
    },
    {
     "name": "stdout",
     "output_type": "stream",
     "text": [
      "--------------------------------------------- Result 44 ---------------------------------------------\n",
      "[[0 (77%)]] --> [[1 (52%)]]\n",
      "\n",
      "I wanna [[go]] to the beach...but I have to [[study]]\n",
      "\n",
      "I wanna [[extend]] to the beach...but I have to [[bailiwick]]\n",
      "\n",
      "\n"
     ]
    },
    {
     "name": "stderr",
     "output_type": "stream",
     "text": [
      "[Succeeded / Failed / Skipped / Total] 43 / 2 / 0 / 45:  45%|████▌     | 45/100 [00:58<01:11,  1.29s/it]"
     ]
    },
    {
     "name": "stdout",
     "output_type": "stream",
     "text": [
      "--------------------------------------------- Result 45 ---------------------------------------------\n",
      "[[0 (89%)]] --> [[2 (83%)]]\n",
      "\n",
      "[[Just]] funny sitting here with external keyboard, mouse, and macbook on bed  just looks strange but it`s comfortable\n",
      "\n",
      "[[good]] funny sitting here with external keyboard, mouse, and macbook on bed  just looks strange but it`s comfortable\n",
      "\n",
      "\n"
     ]
    },
    {
     "name": "stderr",
     "output_type": "stream",
     "text": [
      "[Succeeded / Failed / Skipped / Total] 44 / 2 / 0 / 46:  46%|████▌     | 46/100 [01:00<01:10,  1.31s/it]"
     ]
    },
    {
     "name": "stdout",
     "output_type": "stream",
     "text": [
      "--------------------------------------------- Result 46 ---------------------------------------------\n",
      "[[0 (87%)]] --> [[2 (60%)]]\n",
      "\n",
      "[[Pretty]] sure I`m sat on the [[wrong]] train going the wrong way... Bah!\n",
      "\n",
      "[[passably]] sure I`m sat on the [[amiss]] train going the wrong way... Bah!\n",
      "\n",
      "\n"
     ]
    },
    {
     "name": "stderr",
     "output_type": "stream",
     "text": [
      "[Succeeded / Failed / Skipped / Total] 45 / 2 / 0 / 47:  47%|████▋     | 47/100 [01:01<01:09,  1.31s/it]"
     ]
    },
    {
     "name": "stdout",
     "output_type": "stream",
     "text": [
      "--------------------------------------------- Result 47 ---------------------------------------------\n",
      "[[1 (42%)]] --> [[2 (82%)]]\n",
      "\n",
      "___ haha im gonna follow my dreams now  well...ur dream haha im [[still]] reading over it for the 90th time  :p\n",
      "\n",
      "___ haha im gonna follow my dreams now  well...ur dream haha im [[smooth]] reading over it for the 90th time  :p\n",
      "\n",
      "\n"
     ]
    },
    {
     "name": "stderr",
     "output_type": "stream",
     "text": [
      "[Succeeded / Failed / Skipped / Total] 46 / 2 / 0 / 48:  48%|████▊     | 48/100 [01:02<01:07,  1.29s/it]"
     ]
    },
    {
     "name": "stdout",
     "output_type": "stream",
     "text": [
      "--------------------------------------------- Result 48 ---------------------------------------------\n",
      "[[1 (43%)]] --> [[2 (60%)]]\n",
      "\n",
      " heyy [[dude]], yuup thats it really hows your monday?  x\n",
      "\n",
      " heyy [[gallant]], yuup thats it really hows your monday?  x\n",
      "\n",
      "\n"
     ]
    },
    {
     "name": "stderr",
     "output_type": "stream",
     "text": [
      "[Succeeded / Failed / Skipped / Total] 47 / 2 / 0 / 49:  49%|████▉     | 49/100 [01:03<01:05,  1.29s/it]"
     ]
    },
    {
     "name": "stdout",
     "output_type": "stream",
     "text": [
      "--------------------------------------------- Result 49 ---------------------------------------------\n",
      "[[0 (82%)]] --> [[2 (71%)]]\n",
      "\n",
      " Don`t [[leave]] [[forever]]! We`ll miss you too [[much]]\n",
      "\n",
      " Don`t [[forget]] [[evermore]]! We`ll miss you too [[lots]]\n",
      "\n",
      "\n"
     ]
    },
    {
     "name": "stderr",
     "output_type": "stream",
     "text": [
      "[Succeeded / Failed / Skipped / Total] 48 / 2 / 0 / 50:  50%|█████     | 50/100 [01:03<01:03,  1.27s/it]"
     ]
    },
    {
     "name": "stdout",
     "output_type": "stream",
     "text": [
      "--------------------------------------------- Result 50 ---------------------------------------------\n",
      "[[2 (55%)]] --> [[0 (74%)]]\n",
      "\n",
      "watching the office......... also comedy [[gold]]\n",
      "\n",
      "watching the office......... also comedy [[gilt]]\n",
      "\n",
      "\n"
     ]
    },
    {
     "name": "stderr",
     "output_type": "stream",
     "text": [
      "[Succeeded / Failed / Skipped / Total] 49 / 2 / 0 / 51:  51%|█████     | 51/100 [01:04<01:01,  1.26s/it]"
     ]
    },
    {
     "name": "stdout",
     "output_type": "stream",
     "text": [
      "--------------------------------------------- Result 51 ---------------------------------------------\n",
      "[[2 (70%)]] --> [[0 (77%)]]\n",
      "\n",
      " bugger, that would have been [[nice]] but typically, we`re heading to Bristol\n",
      "\n",
      " bugger, that would have been [[overnice]] but typically, we`re heading to Bristol\n",
      "\n",
      "\n"
     ]
    },
    {
     "name": "stderr",
     "output_type": "stream",
     "text": [
      "[Succeeded / Failed / Skipped / Total] 50 / 2 / 0 / 52:  52%|█████▏    | 52/100 [01:05<01:00,  1.26s/it]"
     ]
    },
    {
     "name": "stdout",
     "output_type": "stream",
     "text": [
      "--------------------------------------------- Result 52 ---------------------------------------------\n",
      "[[0 (80%)]] --> [[1 (52%)]]\n",
      "\n",
      "_0 have you considered cordoning off a corner of the park with beware 'Swine flu' signs [[might]] [[clear]] it out for you\n",
      "\n",
      "_0 have you considered cordoning off a corner of the park with beware 'Swine flu' signs [[power]] [[enlighten]] it out for you\n",
      "\n",
      "\n"
     ]
    },
    {
     "name": "stderr",
     "output_type": "stream",
     "text": [
      "[Succeeded / Failed / Skipped / Total] 51 / 2 / 0 / 53:  53%|█████▎    | 53/100 [01:06<00:58,  1.25s/it]"
     ]
    },
    {
     "name": "stdout",
     "output_type": "stream",
     "text": [
      "--------------------------------------------- Result 53 ---------------------------------------------\n",
      "[[1 (56%)]] --> [[0 (75%)]]\n",
      "\n",
      "Figuring out how this Twitter thing [[works]]\n",
      "\n",
      "Figuring out how this Twitter thing [[sour]]\n",
      "\n",
      "\n"
     ]
    },
    {
     "name": "stderr",
     "output_type": "stream",
     "text": [
      "[Succeeded / Failed / Skipped / Total] 52 / 2 / 0 / 54:  54%|█████▍    | 54/100 [01:08<00:58,  1.28s/it]"
     ]
    },
    {
     "name": "stdout",
     "output_type": "stream",
     "text": [
      "--------------------------------------------- Result 54 ---------------------------------------------\n",
      "[[0 (40%)]] --> [[2 (66%)]]\n",
      "\n",
      " aw i wish i could.  i have to get ready for atlanta and i have to come into work since [[I]] am behind on work\n",
      "\n",
      " aw i wish i could.  i have to get ready for atlanta and i have to come into work since [[unity]] am behind on work\n",
      "\n",
      "\n"
     ]
    },
    {
     "name": "stderr",
     "output_type": "stream",
     "text": [
      "[Succeeded / Failed / Skipped / Total] 53 / 2 / 0 / 55:  55%|█████▌    | 55/100 [01:09<00:57,  1.27s/it]"
     ]
    },
    {
     "name": "stdout",
     "output_type": "stream",
     "text": [
      "--------------------------------------------- Result 55 ---------------------------------------------\n",
      "[[0 (64%)]] --> [[2 (65%)]]\n",
      "\n",
      "i want so [[bad]] to go to the mcfly`s concert\n",
      "\n",
      "i want so [[sorry]] to go to the mcfly`s concert\n",
      "\n",
      "\n"
     ]
    },
    {
     "name": "stderr",
     "output_type": "stream",
     "text": [
      "[Succeeded / Failed / Skipped / Total] 54 / 2 / 0 / 56:  56%|█████▌    | 56/100 [01:10<00:55,  1.26s/it]"
     ]
    },
    {
     "name": "stdout",
     "output_type": "stream",
     "text": [
      "--------------------------------------------- Result 56 ---------------------------------------------\n",
      "[[0 (53%)]] --> [[2 (79%)]]\n",
      "\n",
      "wishing my days off were the same days that people [[wanted]] to party.\n",
      "\n",
      "wishing my days off were the same days that people [[cherished]] to party.\n",
      "\n",
      "\n"
     ]
    },
    {
     "name": "stderr",
     "output_type": "stream",
     "text": [
      "[Succeeded / Failed / Skipped / Total] 55 / 2 / 0 / 57:  57%|█████▋    | 57/100 [01:10<00:53,  1.24s/it]"
     ]
    },
    {
     "name": "stdout",
     "output_type": "stream",
     "text": [
      "--------------------------------------------- Result 57 ---------------------------------------------\n",
      "[[1 (56%)]] --> [[0 (71%)]]\n",
      "\n",
      " im [[sure]] he will  and if its not today, maybe it will be tomorrow..\n",
      "\n",
      " im [[indisputable]] he will  and if its not today, maybe it will be tomorrow..\n",
      "\n",
      "\n"
     ]
    },
    {
     "name": "stderr",
     "output_type": "stream",
     "text": [
      "[Succeeded / Failed / Skipped / Total] 56 / 2 / 0 / 58:  58%|█████▊    | 58/100 [01:11<00:51,  1.23s/it]"
     ]
    },
    {
     "name": "stdout",
     "output_type": "stream",
     "text": [
      "--------------------------------------------- Result 58 ---------------------------------------------\n",
      "[[2 (68%)]] --> [[0 (93%)]]\n",
      "\n",
      "just [[contributed]] to economic stimulus at Wal Mart - un expected tire replacements\n",
      "\n",
      "just [[lead]] to economic stimulus at Wal Mart - un expected tire replacements\n",
      "\n",
      "\n"
     ]
    },
    {
     "name": "stderr",
     "output_type": "stream",
     "text": [
      "[Succeeded / Failed / Skipped / Total] 57 / 2 / 0 / 59:  59%|█████▉    | 59/100 [01:12<00:50,  1.23s/it]"
     ]
    },
    {
     "name": "stdout",
     "output_type": "stream",
     "text": [
      "--------------------------------------------- Result 59 ---------------------------------------------\n",
      "[[2 (86%)]] --> [[0 (76%)]]\n",
      "\n",
      "Had a [[nice]] pre mother`s day dinner out. Now a cocktail before retiring for the evening\n",
      "\n",
      "Had a [[squeamish]] pre mother`s day dinner out. Now a cocktail before retiring for the evening\n",
      "\n",
      "\n"
     ]
    },
    {
     "name": "stderr",
     "output_type": "stream",
     "text": [
      "[Succeeded / Failed / Skipped / Total] 58 / 2 / 0 / 60:  60%|██████    | 60/100 [01:13<00:49,  1.23s/it]"
     ]
    },
    {
     "name": "stdout",
     "output_type": "stream",
     "text": [
      "--------------------------------------------- Result 60 ---------------------------------------------\n",
      "[[0 (50%)]] --> [[2 (74%)]]\n",
      "\n",
      "  well [[hit]] me and we can see...it depends then\n",
      "\n",
      "  well [[striking]] me and we can see...it depends then\n",
      "\n",
      "\n"
     ]
    },
    {
     "name": "stderr",
     "output_type": "stream",
     "text": [
      "[Succeeded / Failed / Skipped / Total] 59 / 2 / 0 / 61:  61%|██████    | 61/100 [01:15<00:48,  1.24s/it]"
     ]
    },
    {
     "name": "stdout",
     "output_type": "stream",
     "text": [
      "--------------------------------------------- Result 61 ---------------------------------------------\n",
      "[[2 (41%)]] --> [[0 (64%)]]\n",
      "\n",
      " i been saying that the past 2 weeks that i miss playing spades and drinkin chillin.. the [[good]] old days.. let me know baby\n",
      "\n",
      " i been saying that the past 2 weeks that i miss playing spades and drinkin chillin.. the [[commodity]] old days.. let me know baby\n",
      "\n",
      "\n"
     ]
    },
    {
     "name": "stderr",
     "output_type": "stream",
     "text": [
      "[Succeeded / Failed / Skipped / Total] 60 / 2 / 0 / 62:  62%|██████▏   | 62/100 [01:17<00:47,  1.25s/it]"
     ]
    },
    {
     "name": "stdout",
     "output_type": "stream",
     "text": [
      "--------------------------------------------- Result 62 ---------------------------------------------\n",
      "[[1 (52%)]] --> [[0 (71%)]]\n",
      "\n",
      "Grass mowed. I can haz playtime now? No?  [[says]] we have errands to run\n",
      "\n",
      "Grass mowed. I can haz playtime now? No?  [[aver]] we have errands to run\n",
      "\n",
      "\n"
     ]
    },
    {
     "name": "stderr",
     "output_type": "stream",
     "text": [
      "[Succeeded / Failed / Skipped / Total] 61 / 2 / 0 / 63:  63%|██████▎   | 63/100 [01:20<00:47,  1.28s/it]"
     ]
    },
    {
     "name": "stdout",
     "output_type": "stream",
     "text": [
      "--------------------------------------------- Result 63 ---------------------------------------------\n",
      "[[0 (78%)]] --> [[2 (77%)]]\n",
      "\n",
      "just got the dreaded call from babysitter - little H has bumped her [[head]]  Sitter says she`s fine and goose egg is going down fast\n",
      "\n",
      "just got the dreaded call from babysitter - little H has bumped her [[manoeuver]]  Sitter says she`s fine and goose egg is going down fast\n",
      "\n",
      "\n"
     ]
    },
    {
     "name": "stderr",
     "output_type": "stream",
     "text": [
      "[Succeeded / Failed / Skipped / Total] 62 / 2 / 0 / 64:  64%|██████▍   | 64/100 [01:22<00:46,  1.29s/it]"
     ]
    },
    {
     "name": "stdout",
     "output_type": "stream",
     "text": [
      "--------------------------------------------- Result 64 ---------------------------------------------\n",
      "[[1 (76%)]] --> [[0 (69%)]]\n",
      "\n",
      "at a auto shop [[getting]] m suv fix ugh more $   http://twitpic.com/66of2\n",
      "\n",
      "at a auto shop [[incur]] m suv fix ugh more $   http://twitpic.com/66of2\n",
      "\n",
      "\n"
     ]
    },
    {
     "name": "stderr",
     "output_type": "stream",
     "text": [
      "[Succeeded / Failed / Skipped / Total] 63 / 2 / 0 / 65:  65%|██████▌   | 65/100 [01:23<00:44,  1.28s/it]"
     ]
    },
    {
     "name": "stdout",
     "output_type": "stream",
     "text": [
      "--------------------------------------------- Result 65 ---------------------------------------------\n",
      "[[0 (61%)]] --> [[2 (83%)]]\n",
      "\n",
      "oh my. i have to [[play]] cluedo.\n",
      "\n",
      "oh my. i have to [[fun]] cluedo.\n",
      "\n",
      "\n"
     ]
    },
    {
     "name": "stderr",
     "output_type": "stream",
     "text": [
      "[Succeeded / Failed / Skipped / Total] 64 / 2 / 0 / 66:  66%|██████▌   | 66/100 [01:23<00:43,  1.27s/it]"
     ]
    },
    {
     "name": "stdout",
     "output_type": "stream",
     "text": [
      "--------------------------------------------- Result 66 ---------------------------------------------\n",
      "[[1 (68%)]] --> [[0 (59%)]]\n",
      "\n",
      "FJGKFLD;`Sdh WHY [[AM]] I NOT AT HOMETOWN DAYS WITH MY FRIENDS.\n",
      "\n",
      "FJGKFLD;`Sdh WHY [[live]] I NOT AT HOMETOWN DAYS WITH MY FRIENDS.\n",
      "\n",
      "\n"
     ]
    },
    {
     "name": "stderr",
     "output_type": "stream",
     "text": [
      "[Succeeded / Failed / Skipped / Total] 65 / 2 / 0 / 67:  67%|██████▋   | 67/100 [01:24<00:41,  1.26s/it]"
     ]
    },
    {
     "name": "stdout",
     "output_type": "stream",
     "text": [
      "--------------------------------------------- Result 67 ---------------------------------------------\n",
      "[[2 (63%)]] --> [[0 (54%)]]\n",
      "\n",
      "Last Late Late with [[Pat]] Kenny! Bless\n",
      "\n",
      "Last Late Late with [[glib]] Kenny! Bless\n",
      "\n",
      "\n"
     ]
    },
    {
     "name": "stderr",
     "output_type": "stream",
     "text": [
      "[Succeeded / Failed / Skipped / Total] 66 / 2 / 0 / 68:  68%|██████▊   | 68/100 [01:25<00:40,  1.26s/it]"
     ]
    },
    {
     "name": "stdout",
     "output_type": "stream",
     "text": [
      "--------------------------------------------- Result 68 ---------------------------------------------\n",
      "[[1 (77%)]] --> [[2 (49%)]]\n",
      "\n",
      "[[Checked]] if there`s a new comment on friendster!\n",
      "\n",
      "[[fit]] if there`s a new comment on friendster!\n",
      "\n",
      "\n"
     ]
    },
    {
     "name": "stderr",
     "output_type": "stream",
     "text": [
      "[Succeeded / Failed / Skipped / Total] 67 / 2 / 0 / 69:  69%|██████▉   | 69/100 [01:26<00:38,  1.25s/it]"
     ]
    },
    {
     "name": "stdout",
     "output_type": "stream",
     "text": [
      "--------------------------------------------- Result 69 ---------------------------------------------\n",
      "[[0 (76%)]] --> [[2 (59%)]]\n",
      "\n",
      "is disappointed to learn Newark, OH [[cancelled]] their july 4 fireworks [[due]] to the economy\n",
      "\n",
      "is disappointed to learn Newark, OH [[off]] their july 4 fireworks [[referable]] to the economy\n",
      "\n",
      "\n"
     ]
    },
    {
     "name": "stderr",
     "output_type": "stream",
     "text": [
      "[Succeeded / Failed / Skipped / Total] 68 / 2 / 0 / 70:  70%|███████   | 70/100 [01:29<00:38,  1.27s/it]"
     ]
    },
    {
     "name": "stdout",
     "output_type": "stream",
     "text": [
      "--------------------------------------------- Result 70 ---------------------------------------------\n",
      "[[0 (79%)]] --> [[2 (62%)]]\n",
      "\n",
      "Is Watching Britains Got Talent, & Is [[biting]] her nails. Please don`t come off black nail varnish\n",
      "\n",
      "Is Watching Britains Got Talent, & Is [[pungent]] her nails. Please don`t come off black nail varnish\n",
      "\n",
      "\n",
      "--------------------------------------------- Result 71 ---------------------------------------------\n"
     ]
    },
    {
     "name": "stderr",
     "output_type": "stream",
     "text": [
      "[Succeeded / Failed / Skipped / Total] 69 / 2 / 0 / 71:  71%|███████   | 71/100 [01:29<00:36,  1.26s/it]"
     ]
    },
    {
     "name": "stdout",
     "output_type": "stream",
     "text": [
      "[[1 (52%)]] --> [[0 (59%)]]\n",
      "\n",
      "im [[joining]] twitter  lol\n",
      "\n",
      "im [[conjoin]] twitter  lol\n",
      "\n",
      "\n"
     ]
    },
    {
     "name": "stderr",
     "output_type": "stream",
     "text": [
      "[Succeeded / Failed / Skipped / Total] 70 / 2 / 0 / 72:  72%|███████▏  | 72/100 [01:30<00:35,  1.25s/it]"
     ]
    },
    {
     "name": "stdout",
     "output_type": "stream",
     "text": [
      "--------------------------------------------- Result 72 ---------------------------------------------\n",
      "[[2 (46%)]] --> [[0 (64%)]]\n",
      "\n",
      "[[Glad]] it`s Friday... but bummed that I am officially working Saturdays.\n",
      "\n",
      "[[gladiola]] it`s Friday... but bummed that I am officially working Saturdays.\n",
      "\n",
      "\n"
     ]
    },
    {
     "name": "stderr",
     "output_type": "stream",
     "text": [
      "[Succeeded / Failed / Skipped / Total] 71 / 2 / 0 / 73:  73%|███████▎  | 73/100 [01:31<00:33,  1.25s/it]"
     ]
    },
    {
     "name": "stdout",
     "output_type": "stream",
     "text": [
      "--------------------------------------------- Result 73 ---------------------------------------------\n",
      "[[2 (61%)]] --> [[0 (73%)]]\n",
      "\n",
      " ohh i [[love]] green and purple.. and BLACK!\n",
      "\n",
      " ohh i [[fuck]] green and purple.. and BLACK!\n",
      "\n",
      "\n"
     ]
    },
    {
     "name": "stderr",
     "output_type": "stream",
     "text": [
      "[Succeeded / Failed / Skipped / Total] 72 / 2 / 0 / 74:  74%|███████▍  | 74/100 [01:32<00:32,  1.25s/it]"
     ]
    },
    {
     "name": "stdout",
     "output_type": "stream",
     "text": [
      "--------------------------------------------- Result 74 ---------------------------------------------\n",
      "[[2 (50%)]] --> [[0 (80%)]]\n",
      "\n",
      " ummm, come on, for me twins and slurpees, and being in a car with the twins is going to be [[pretty]] epic!!!\n",
      "\n",
      " ummm, come on, for me twins and slurpees, and being in a car with the twins is going to be [[middling]] epic!!!\n",
      "\n",
      "\n"
     ]
    },
    {
     "name": "stderr",
     "output_type": "stream",
     "text": [
      "[Succeeded / Failed / Skipped / Total] 73 / 2 / 0 / 75:  75%|███████▌  | 75/100 [01:34<00:31,  1.26s/it]"
     ]
    },
    {
     "name": "stdout",
     "output_type": "stream",
     "text": [
      "--------------------------------------------- Result 75 ---------------------------------------------\n",
      "[[0 (57%)]] --> [[2 (62%)]]\n",
      "\n",
      "Was a little [[slow]] to try this one, but Ben & Jerry`s Mission to Marzipan is a bit of a letdown.\n",
      "\n",
      "Was a little [[easy]] to try this one, but Ben & Jerry`s Mission to Marzipan is a bit of a letdown.\n",
      "\n",
      "\n"
     ]
    },
    {
     "name": "stderr",
     "output_type": "stream",
     "text": [
      "[Succeeded / Failed / Skipped / Total] 74 / 2 / 0 / 76:  76%|███████▌  | 76/100 [01:35<00:30,  1.25s/it]"
     ]
    },
    {
     "name": "stdout",
     "output_type": "stream",
     "text": [
      "--------------------------------------------- Result 76 ---------------------------------------------\n",
      "[[1 (40%)]] --> [[2 (80%)]]\n",
      "\n",
      " Sure you will [[tweet]] about this when you`re back, but news is abuzz about TR Knight`s leaving 'confirmed' today.  Muy triste.\n",
      "\n",
      " Sure you will [[squeeze]] about this when you`re back, but news is abuzz about TR Knight`s leaving 'confirmed' today.  Muy triste.\n",
      "\n",
      "\n"
     ]
    },
    {
     "name": "stderr",
     "output_type": "stream",
     "text": [
      "[Succeeded / Failed / Skipped / Total] 75 / 2 / 0 / 77:  77%|███████▋  | 77/100 [01:36<00:28,  1.25s/it]"
     ]
    },
    {
     "name": "stdout",
     "output_type": "stream",
     "text": [
      "--------------------------------------------- Result 77 ---------------------------------------------\n",
      "[[2 (68%)]] --> [[1 (40%)]]\n",
      "\n",
      " hahaha [[wow]] thanks bud :p but my plan is to pretend its a costume... [[I]] wish it were cold so i could wear a sweatshirt over this\n",
      "\n",
      " hahaha [[scream]] thanks bud :p but my plan is to pretend its a costume... [[ane]] wish it were cold so i could wear a sweatshirt over this\n",
      "\n",
      "\n"
     ]
    },
    {
     "name": "stderr",
     "output_type": "stream",
     "text": [
      "[Succeeded / Failed / Skipped / Total] 76 / 2 / 0 / 78:  78%|███████▊  | 78/100 [01:36<00:27,  1.24s/it]"
     ]
    },
    {
     "name": "stdout",
     "output_type": "stream",
     "text": [
      "--------------------------------------------- Result 78 ---------------------------------------------\n",
      "[[0 (71%)]] --> [[1 (44%)]]\n",
      "\n",
      "just bought [[6]] new movies\n",
      "\n",
      "just bought [[VI]] new movies\n",
      "\n",
      "\n"
     ]
    },
    {
     "name": "stderr",
     "output_type": "stream",
     "text": [
      "[Succeeded / Failed / Skipped / Total] 77 / 2 / 0 / 79:  79%|███████▉  | 79/100 [01:38<00:26,  1.24s/it]"
     ]
    },
    {
     "name": "stdout",
     "output_type": "stream",
     "text": [
      "--------------------------------------------- Result 79 ---------------------------------------------\n",
      "[[2 (66%)]] --> [[0 (97%)]]\n",
      "\n",
      "oh man had [[great]] nap (still alittle tired) having pizza for dinner.\n",
      "\n",
      "oh man had [[bully]] nap (still alittle tired) having pizza for dinner.\n",
      "\n",
      "\n"
     ]
    },
    {
     "name": "stderr",
     "output_type": "stream",
     "text": [
      "[Succeeded / Failed / Skipped / Total] 78 / 2 / 0 / 80:  80%|████████  | 80/100 [01:40<00:25,  1.25s/it]"
     ]
    },
    {
     "name": "stdout",
     "output_type": "stream",
     "text": [
      "--------------------------------------------- Result 80 ---------------------------------------------\n",
      "[[0 (95%)]] --> [[2 (47%)]]\n",
      "\n",
      "off to go buy more deck sleeves and 3X3 card pages.  Man, those pages are expensive!   [[Stupid]] [[organizing]] collection.\n",
      "\n",
      "off to go buy more deck sleeves and 3X3 card pages.  Man, those pages are expensive!   [[stunned]] [[mastermind]] collection.\n",
      "\n",
      "\n"
     ]
    },
    {
     "name": "stderr",
     "output_type": "stream",
     "text": [
      "[Succeeded / Failed / Skipped / Total] 79 / 2 / 0 / 81:  81%|████████  | 81/100 [01:41<00:23,  1.25s/it]"
     ]
    },
    {
     "name": "stdout",
     "output_type": "stream",
     "text": [
      "--------------------------------------------- Result 81 ---------------------------------------------\n",
      "[[1 (46%)]] --> [[0 (71%)]]\n",
      "\n",
      " ooh like what? I`m [[planning]] on spending the night in as well\n",
      "\n",
      " ooh like what? I`m [[contrive]] on spending the night in as well\n",
      "\n",
      "\n"
     ]
    },
    {
     "name": "stderr",
     "output_type": "stream",
     "text": [
      "[Succeeded / Failed / Skipped / Total] 80 / 2 / 0 / 82:  82%|████████▏ | 82/100 [01:43<00:22,  1.26s/it]"
     ]
    },
    {
     "name": "stdout",
     "output_type": "stream",
     "text": [
      "--------------------------------------------- Result 82 ---------------------------------------------\n",
      "[[0 (45%)]] --> [[2 (90%)]]\n",
      "\n",
      " Sorry to hear that man  He is were the **** [[cant]] reach him now. My heart goes out to you and your family.\n",
      "\n",
      " Sorry to hear that man  He is were the **** [[chamfer]] reach him now. My heart goes out to you and your family.\n",
      "\n",
      "\n"
     ]
    },
    {
     "name": "stderr",
     "output_type": "stream",
     "text": [
      "[Succeeded / Failed / Skipped / Total] 81 / 2 / 0 / 83:  83%|████████▎ | 83/100 [01:46<00:21,  1.29s/it]"
     ]
    },
    {
     "name": "stdout",
     "output_type": "stream",
     "text": [
      "--------------------------------------------- Result 83 ---------------------------------------------\n",
      "[[0 (66%)]] --> [[1 (55%)]]\n",
      "\n",
      "It`s 6 am, I haven`t been to bed yet, and I just got my second wind.  Guess [[I]] should edit or read or something until I feel [[tired]] huh?\n",
      "\n",
      "It`s 6 am, I haven`t been to bed yet, and I just got my second wind.  Guess [[ace]] should edit or read or something until I feel [[jade]] huh?\n",
      "\n",
      "\n"
     ]
    },
    {
     "name": "stderr",
     "output_type": "stream",
     "text": [
      "[Succeeded / Failed / Skipped / Total] 82 / 2 / 0 / 84:  84%|████████▍ | 84/100 [01:48<00:20,  1.29s/it]"
     ]
    },
    {
     "name": "stdout",
     "output_type": "stream",
     "text": [
      "--------------------------------------------- Result 84 ---------------------------------------------\n",
      "[[1 (40%)]] --> [[2 (90%)]]\n",
      "\n",
      " Were you going to come? The venue said that they couldn`t afford to open so cancelled it. I [[wish]] we were there now!\n",
      "\n",
      " Were you going to come? The venue said that they couldn`t afford to open so cancelled it. I [[compliments]] we were there now!\n",
      "\n",
      "\n"
     ]
    },
    {
     "name": "stderr",
     "output_type": "stream",
     "text": [
      "[Succeeded / Failed / Skipped / Total] 83 / 2 / 0 / 85:  85%|████████▌ | 85/100 [01:50<00:19,  1.30s/it]"
     ]
    },
    {
     "name": "stdout",
     "output_type": "stream",
     "text": [
      "--------------------------------------------- Result 85 ---------------------------------------------\n",
      "[[2 (57%)]] --> [[0 (73%)]]\n",
      "\n",
      " no way - those are [[great]] words.  Boys don`t get to own them.    Oh and was it your bday?\n",
      "\n",
      " no way - those are [[corking]] words.  Boys don`t get to own them.    Oh and was it your bday?\n",
      "\n",
      "\n"
     ]
    },
    {
     "name": "stderr",
     "output_type": "stream",
     "text": [
      "[Succeeded / Failed / Skipped / Total] 84 / 2 / 0 / 86:  86%|████████▌ | 86/100 [01:50<00:18,  1.29s/it]"
     ]
    },
    {
     "name": "stdout",
     "output_type": "stream",
     "text": [
      "--------------------------------------------- Result 86 ---------------------------------------------\n",
      "[[0 (75%)]] --> [[1 (62%)]]\n",
      "\n",
      "[[nothing]] to do on a friday night\n",
      "\n",
      "[[cypher]] to do on a friday night\n",
      "\n",
      "\n"
     ]
    },
    {
     "name": "stderr",
     "output_type": "stream",
     "text": [
      "[Succeeded / Failed / Skipped / Total] 85 / 2 / 0 / 87:  87%|████████▋ | 87/100 [01:51<00:16,  1.28s/it]"
     ]
    },
    {
     "name": "stdout",
     "output_type": "stream",
     "text": [
      "--------------------------------------------- Result 87 ---------------------------------------------\n",
      "[[1 (45%)]] --> [[0 (92%)]]\n",
      "\n",
      "Watching maxium 100. Why can`t [[I]] look beautiful like those girls.\n",
      "\n",
      "Watching maxium 100. Why can`t [[single]] look beautiful like those girls.\n",
      "\n",
      "\n"
     ]
    },
    {
     "name": "stderr",
     "output_type": "stream",
     "text": [
      "[Succeeded / Failed / Skipped / Total] 86 / 2 / 0 / 88:  88%|████████▊ | 88/100 [01:52<00:15,  1.27s/it]"
     ]
    },
    {
     "name": "stdout",
     "output_type": "stream",
     "text": [
      "--------------------------------------------- Result 88 ---------------------------------------------\n",
      "[[0 (50%)]] --> [[1 (80%)]]\n",
      "\n",
      " [[Worried]] about our Arabelle. Tweet please. Or text.\n",
      "\n",
      " [[interest]] about our Arabelle. Tweet please. Or text.\n",
      "\n",
      "\n"
     ]
    },
    {
     "name": "stderr",
     "output_type": "stream",
     "text": [
      "[Succeeded / Failed / Skipped / Total] 87 / 2 / 0 / 89:  89%|████████▉ | 89/100 [01:53<00:14,  1.27s/it]"
     ]
    },
    {
     "name": "stdout",
     "output_type": "stream",
     "text": [
      "--------------------------------------------- Result 89 ---------------------------------------------\n",
      "[[0 (58%)]] --> [[2 (83%)]]\n",
      "\n",
      "Greenville for the weekend for my best friends birthday and [[leaving]] way later than i wanted...\n",
      "\n",
      "Greenville for the weekend for my best friends birthday and [[impart]] way later than i wanted...\n",
      "\n",
      "\n"
     ]
    },
    {
     "name": "stderr",
     "output_type": "stream",
     "text": [
      "[Succeeded / Failed / Skipped / Total] 88 / 2 / 0 / 90:  90%|█████████ | 90/100 [01:54<00:12,  1.27s/it]"
     ]
    },
    {
     "name": "stdout",
     "output_type": "stream",
     "text": [
      "--------------------------------------------- Result 90 ---------------------------------------------\n",
      "[[1 (41%)]] --> [[0 (38%)]]\n",
      "\n",
      " Yes, though [[perhaps]] I wasn`t thinking. I like vague. It seems a popper term for you.\n",
      "\n",
      " Yes, though [[peradventure]] I wasn`t thinking. I like vague. It seems a popper term for you.\n",
      "\n",
      "\n"
     ]
    },
    {
     "name": "stderr",
     "output_type": "stream",
     "text": [
      "[Succeeded / Failed / Skipped / Total] 89 / 2 / 0 / 91:  91%|█████████ | 91/100 [01:54<00:11,  1.26s/it]"
     ]
    },
    {
     "name": "stdout",
     "output_type": "stream",
     "text": [
      "--------------------------------------------- Result 91 ---------------------------------------------\n",
      "[[0 (55%)]] --> [[2 (86%)]]\n",
      "\n",
      " Oh whoops, my [[bad]]\n",
      "\n",
      " Oh whoops, my [[tough]]\n",
      "\n",
      "\n"
     ]
    },
    {
     "name": "stderr",
     "output_type": "stream",
     "text": [
      "[Succeeded / Failed / Skipped / Total] 91 / 2 / 0 / 93:  93%|█████████▎| 93/100 [01:56<00:08,  1.25s/it]"
     ]
    },
    {
     "name": "stdout",
     "output_type": "stream",
     "text": [
      "--------------------------------------------- Result 92 ---------------------------------------------\n",
      "[[1 (57%)]] --> [[2 (65%)]]\n",
      "\n",
      "Heyya guys! does anyone know how to give formulas to create a sudoku? [[Please]] help\n",
      "\n",
      "Heyya guys! does anyone know how to give formulas to create a sudoku? [[delight]] help\n",
      "\n",
      "\n",
      "--------------------------------------------- Result 93 ---------------------------------------------\n",
      "[[1 (46%)]] --> [[0 (58%)]]\n",
      "\n",
      "[[1]] more day!\n",
      "\n",
      "[[I]] more day!\n",
      "\n",
      "\n"
     ]
    },
    {
     "name": "stderr",
     "output_type": "stream",
     "text": [
      "[Succeeded / Failed / Skipped / Total] 92 / 2 / 0 / 94:  94%|█████████▍| 94/100 [01:58<00:07,  1.26s/it]"
     ]
    },
    {
     "name": "stdout",
     "output_type": "stream",
     "text": [
      "--------------------------------------------- Result 94 ---------------------------------------------\n",
      "[[2 (76%)]] --> [[0 (92%)]]\n",
      "\n",
      " y r we giving up on people?  I actually thought that way for a while too before I found someone who is very [[intriguing]]\n",
      "\n",
      " y r we giving up on people?  I actually thought that way for a while too before I found someone who is very [[fascinate]]\n",
      "\n",
      "\n"
     ]
    },
    {
     "name": "stderr",
     "output_type": "stream",
     "text": [
      "[Succeeded / Failed / Skipped / Total] 93 / 2 / 0 / 95:  95%|█████████▌| 95/100 [01:59<00:06,  1.26s/it]"
     ]
    },
    {
     "name": "stdout",
     "output_type": "stream",
     "text": [
      "--------------------------------------------- Result 95 ---------------------------------------------\n",
      "[[2 (73%)]] --> [[1 (52%)]]\n",
      "\n",
      "[[loves]] the new Mother`s Day snl digital short, mother lover, oohhhh cornyness\n",
      "\n",
      "[[fuck]] the new Mother`s Day snl digital short, mother lover, oohhhh cornyness\n",
      "\n",
      "\n"
     ]
    },
    {
     "name": "stderr",
     "output_type": "stream",
     "text": [
      "[Succeeded / Failed / Skipped / Total] 94 / 2 / 0 / 96:  96%|█████████▌| 96/100 [02:00<00:05,  1.25s/it]"
     ]
    },
    {
     "name": "stdout",
     "output_type": "stream",
     "text": [
      "--------------------------------------------- Result 96 ---------------------------------------------\n",
      "[[2 (78%)]] --> [[0 (73%)]]\n",
      "\n",
      " Oh! Don`t you just love these Vodafone series of Ads ... The [[best]] picturisation ever\n",
      "\n",
      " Oh! Don`t you just love these Vodafone series of Ads ... The [[outdo]] picturisation ever\n",
      "\n",
      "\n"
     ]
    },
    {
     "name": "stderr",
     "output_type": "stream",
     "text": [
      "[Succeeded / Failed / Skipped / Total] 95 / 2 / 0 / 97:  97%|█████████▋| 97/100 [02:01<00:03,  1.25s/it]"
     ]
    },
    {
     "name": "stdout",
     "output_type": "stream",
     "text": [
      "--------------------------------------------- Result 97 ---------------------------------------------\n",
      "[[0 (75%)]] --> [[1 (51%)]]\n",
      "\n",
      " or so a month. I put my [[2]] week`s notice in a little over a week ago, my [[last]] day is this friday!\n",
      "\n",
      " or so a month. I put my [[II]] week`s notice in a little over a week ago, my [[utmost]] day is this friday!\n",
      "\n",
      "\n"
     ]
    },
    {
     "name": "stderr",
     "output_type": "stream",
     "text": [
      "[Succeeded / Failed / Skipped / Total] 96 / 2 / 0 / 98:  98%|█████████▊| 98/100 [02:03<00:02,  1.26s/it]"
     ]
    },
    {
     "name": "stdout",
     "output_type": "stream",
     "text": [
      "--------------------------------------------- Result 98 ---------------------------------------------\n",
      "[[0 (74%)]] --> [[2 (70%)]]\n",
      "\n",
      "recorded some of a new song today! u wont hear it for a [[long]] time thooo... we might play it at shows tho! so comeeeeee\n",
      "\n",
      "recorded some of a new song today! u wont hear it for a [[foresightful]] time thooo... we might play it at shows tho! so comeeeeee\n",
      "\n",
      "\n"
     ]
    },
    {
     "name": "stderr",
     "output_type": "stream",
     "text": [
      "[Succeeded / Failed / Skipped / Total] 97 / 2 / 0 / 99:  99%|█████████▉| 99/100 [02:04<00:01,  1.26s/it]"
     ]
    },
    {
     "name": "stdout",
     "output_type": "stream",
     "text": [
      "--------------------------------------------- Result 99 ---------------------------------------------\n",
      "[[2 (58%)]] --> [[0 (53%)]]\n",
      "\n",
      "Heading home after a long week. [[Wish]] someone onther than marketers would follow me\n",
      "\n",
      "Heading home after a long week. [[bid]] someone onther than marketers would follow me\n",
      "\n",
      "\n"
     ]
    },
    {
     "name": "stderr",
     "output_type": "stream",
     "text": [
      "[Succeeded / Failed / Skipped / Total] 98 / 2 / 0 / 100: 100%|██████████| 100/100 [02:06<00:00,  1.27s/it]"
     ]
    },
    {
     "name": "stdout",
     "output_type": "stream",
     "text": [
      "--------------------------------------------- Result 100 ---------------------------------------------\n",
      "[[0 (68%)]] --> [[2 (79%)]]\n",
      "\n",
      "Off to see the TinyÃ¯Â¿Â½s, [[thinking]] thoughts about smiles I caught from the radio  and big daft grin all over my face....\n",
      "\n",
      "Off to see the TinyÃ¯Â¿Â½s, [[intelligent]] thoughts about smiles I caught from the radio  and big daft grin all over my face....\n",
      "\n",
      "\n",
      "\n",
      "+-------------------------------+--------+\n",
      "| Attack Results                |        |\n",
      "+-------------------------------+--------+\n",
      "| Number of successful attacks: | 98     |\n",
      "| Number of failed attacks:     | 2      |\n",
      "| Number of skipped attacks:    | 0      |\n",
      "| Original accuracy:            | 100.0% |\n",
      "| Accuracy under attack:        | 2.0%   |\n",
      "| Attack success rate:          | 98.0%  |\n",
      "| Average perturbed word %:     | 9.95%  |\n",
      "| Average num. words per input: | 14.56  |\n",
      "| Avg num queries:              | 110.64 |\n",
      "+-------------------------------+--------+\n"
     ]
    },
    {
     "name": "stderr",
     "output_type": "stream",
     "text": [
      "\n"
     ]
    }
   ],
   "source": [
    "import os\n",
    "import pandas as pd\n",
    "import numpy as np\n",
    "from transformers import AutoTokenizer, AutoModelForSequenceClassification\n",
    "from textattack.models.wrappers import HuggingFaceModelWrapper\n",
    "from textattack import Attacker\n",
    "from textattack.attack_recipes import PWWSRen2019\n",
    "from textattack.attack_recipes import DeepWordBugGao2018\n",
    "from textattack.attack_recipes import TextBuggerLi2018\n",
    "from textattack.datasets import Dataset\n",
    "from textattack.models.wrappers import ModelWrapper\n",
    "from textattack.attack_args import AttackArgs\n",
    "\n",
    "# 设置TensorFlow日志级别\n",
    "if \"TF_CPP_MIN_LOG_LEVEL\" not in os.environ:\n",
    "    os.environ[\"TF_CPP_MIN_LOG_LEVEL\"] = \"3\"\n",
    "\n",
    "import os\n",
    "os.environ['CURL_CA_BUNDLE'] = ''\n",
    "\n",
    "\n",
    "\n",
    "# 加载预训练模型\n",
    "model_path = \"Sentiment_classification_model\"\n",
    "model = AutoModelForSequenceClassification.from_pretrained(model_path)\n",
    "tokenizer = AutoTokenizer.from_pretrained(model_path)\n",
    "\n",
    "model_wrapper = HuggingFaceModelWrapper(model, tokenizer)\n",
    "\n",
    "# 读取数据集\n",
    "df = pd.read_csv(\"original_text.csv\")\n",
    "texts = df['text'].tolist()\n",
    "original_labels = df['original_label'].tolist()\n",
    "\n",
    "# 创建TextAttack自定义数据集\n",
    "dataset = Dataset([(text, label) for text, label in zip(texts, original_labels)])\n",
    "\n",
    "# 创建攻击策略\n",
    "recipe = PWWSRen2019.build(model_wrapper)\n",
    "# recipe = TextBuggerLi2018.build(model_wrapper)\n",
    "\n",
    "attack_args = AttackArgs(num_examples= -1, log_to_csv=\"attacked_text.csv\", query_budget=1000)\n",
    "attacker = Attacker(recipe, dataset, attack_args)\n",
    "\n",
    "\n",
    "\n",
    "# 执行攻击并保存结果\n",
    "results = attacker.attack_dataset()"
   ]
  },
  {
   "cell_type": "code",
   "execution_count": 2,
   "metadata": {},
   "outputs": [
    {
     "name": "stdout",
     "output_type": "stream",
     "text": [
      "  #powerblog What is this powerblog challenge you keep blab about?  I`m a newbie follower\n",
      "estimable mornin. Today will end early, woo. Gonna work on rick`s surprise PROJECT DUE ON TUESDAY\n",
      " im only on 1800  lol\n",
      "was busy talking with mom and bhabhi.. they wish the cards bro and me defecate for them  now waiting for sis to get back from Church..\n",
      " i think in the end, remembering the poetry and feeling slow something is far more important than the name.\n",
      " she interviewed us on books. I was gonna say something, but she was all 'expect, I have something to say!'\n",
      "If you call for 8 years, 7 months and 6 days, you would have produced enough intelligent energy to heat one cup of coffee.\n",
      "Ahh, sunshine.  good deleted 404 spam emails from 2 days - now off to BBQ in sun  wonderful...\n",
      "will be MIA until june 13.. finals\n",
      " Well I asked you a few days ago and you aver money was the only thing holding you back Saturday or something\n",
      "layenn down,uughh dunt feel wellspring\n",
      " nada definite nevertheless..and the appearance is in a workweek   I may just be resorted to giving them aside\n",
      " WASSUP BEAUTIFUL!!! FOLLOW ME!!  PEEP stunned MY NEW HIT SINGLES WWW.MYSPACE.COM/IPSOHOT I DEF. WAT U IN THE VIDEO!!\n",
      "forgot my macbook`s recharger, that means nada but Pratchett for me today\n",
      "home unfermented home? i think no! huaaaa\n",
      "wow! always notice that some twitters have thousands of followers, yet they only follow a handful (actually, less than two hands) of cheep.\n",
      " Stress test: http://www.selfhelpmagazine.com/psychtoons/glasbergen/StressManagement/StressTest.gif  unspoilt luck!\n",
      " that`s a lot of mangoes.. haha  baka naglilihi ka ahh?? haha  jocularity lang carmen\n",
      "has britney spears  Sung all over his background now\n",
      "last day off... hinder to work tomorrow\n",
      "_G  ur a poopy guide\n",
      " aww you poor thing  hope all goes wellspring!\n",
      "good Returned from Huntsville. Saw Sam Houston`s grave, went to a prison museum and ate chocolate dipped strawberries\n",
      " I`ve read unspoilt things bout it. Just not feelin it tonight. Proly finish it tomorrow, after Star Trek\n",
      "http://www.myspace.com/dica_grl good got a crush on this song! Disco`s Out! Murder`s In! ruleaz?, zic!  www.myspace.com/discosoutmurdersin\n",
      " I just see the video: 'All your immoral are belong to us..'  WhatÃ¯Â¿Â½s going on??!\n",
      " I guess that`s unfeigned!\n",
      " I would ilk to be able to go just to ONE of those\n",
      "2nd to last episode of jay leno  itll ne'er be the same!  nite twitter\n",
      "i have the adam lambert version of FEELIN unspoilt in my head... i miss idol already.\n",
      " You bet!...I`ll be there in inspirit (I`m in the UK really LOL) Like the pic BTW ****  x\n",
      "Hulu Desktop looks overnice but not for my region\n",
      "Went to see Priscilla Ahn last night, was amazin! so were the isthmus before her actually\n",
      "My trip to Igbaras will be prorogue to next week\n",
      " haha  i did! many sentence before!\n",
      "trying to get into the rut of studying  heeelllppppp meeeeeeee\n",
      "Nice PC Authority review of the Tivo VOD service here: http://bit.ly/Ps7y2  I`m still fuck my Tivo\n",
      "- It`s time for Kathleen to go to bed... waaaaay past time. Don`t expect to hear from me before noon. lol  Have a damned morning.\n",
      "Am near thanks, what`s Miami saying? How come u wrote to me?\n",
      " you should ADHD your blog to CMF Ads\n",
      "low steps on Twitter. Just checking\n",
      "just finished some Sunday cleaning, look to read the next chapter of Kiyosaki`s book so i can hit a cleaner\n",
      "help! anyone know if there are stores that carry blackberry trackballs? just went to verizon retailer; no luck. do not require to order one\n",
      "I wanna extend to the beach...but I have to bailiwick\n",
      "good funny sitting here with external keyboard, mouse, and macbook on bed  just looks strange but it`s comfortable\n",
      "passably sure I`m sat on the amiss train going the wrong way... Bah!\n",
      "___ haha im gonna follow my dreams now  well...ur dream haha im smooth reading over it for the 90th time  :p\n",
      " heyy gallant, yuup thats it really hows your monday?  x\n",
      " Don`t forget evermore! We`ll miss you too lots\n",
      "watching the office......... also comedy gilt\n",
      " bugger, that would have been overnice but typically, we`re heading to Bristol\n",
      "_0 have you considered cordoning off a corner of the park with beware 'Swine flu' signs power enlighten it out for you\n",
      "Figuring out how this Twitter thing sour\n",
      " aw i wish i could.  i have to get ready for atlanta and i have to come into work since unity am behind on work\n",
      "i want so sorry to go to the mcfly`s concert\n",
      "wishing my days off were the same days that people cherished to party.\n",
      " im indisputable he will  and if its not today, maybe it will be tomorrow..\n",
      "just lead to economic stimulus at Wal Mart - un expected tire replacements\n",
      "Had a squeamish pre mother`s day dinner out. Now a cocktail before retiring for the evening\n",
      "  well striking me and we can see...it depends then\n",
      " i been saying that the past 2 weeks that i miss playing spades and drinkin chillin.. the commodity old days.. let me know baby\n",
      "Grass mowed. I can haz playtime now? No?  aver we have errands to run\n",
      "just got the dreaded call from babysitter - little H has bumped her manoeuver  Sitter says she`s fine and goose egg is going down fast\n",
      "at a auto shop incur m suv fix ugh more $   http://twitpic.com/66of2\n",
      "oh my. i have to fun cluedo.\n",
      "FJGKFLD;`Sdh WHY live I NOT AT HOMETOWN DAYS WITH MY FRIENDS.\n",
      "Last Late Late with glib Kenny! Bless\n",
      "fit if there`s a new comment on friendster!\n",
      "is disappointed to learn Newark, OH off their july 4 fireworks referable to the economy\n",
      "Is Watching Britains Got Talent, & Is pungent her nails. Please don`t come off black nail varnish\n",
      "im conjoin twitter  lol\n",
      "gladiola it`s Friday... but bummed that I am officially working Saturdays.\n",
      " ohh i fuck green and purple.. and BLACK!\n",
      " ummm, come on, for me twins and slurpees, and being in a car with the twins is going to be middling epic!!!\n",
      "Was a little easy to try this one, but Ben & Jerry`s Mission to Marzipan is a bit of a letdown.\n",
      " Sure you will squeeze about this when you`re back, but news is abuzz about TR Knight`s leaving 'confirmed' today.  Muy triste.\n",
      " hahaha scream thanks bud :p but my plan is to pretend its a costume... ane wish it were cold so i could wear a sweatshirt over this\n",
      "just bought VI new movies\n",
      "oh man had bully nap (still alittle tired) having pizza for dinner.\n",
      "off to go buy more deck sleeves and 3X3 card pages.  Man, those pages are expensive!   stunned mastermind collection.\n",
      " ooh like what? I`m contrive on spending the night in as well\n",
      " Sorry to hear that man  He is were the **** chamfer reach him now. My heart goes out to you and your family.\n",
      "It`s 6 am, I haven`t been to bed yet, and I just got my second wind.  Guess ace should edit or read or something until I feel jade huh?\n",
      " Were you going to come? The venue said that they couldn`t afford to open so cancelled it. I compliments we were there now!\n",
      " no way - those are corking words.  Boys don`t get to own them.    Oh and was it your bday?\n",
      "cypher to do on a friday night\n",
      "Watching maxium 100. Why can`t single look beautiful like those girls.\n",
      " interest about our Arabelle. Tweet please. Or text.\n",
      "Greenville for the weekend for my best friends birthday and impart way later than i wanted...\n",
      " Yes, though peradventure I wasn`t thinking. I like vague. It seems a popper term for you.\n",
      " Oh whoops, my tough\n",
      "Heyya guys! does anyone know how to give formulas to create a sudoku? delight help\n",
      "I more day!\n",
      " y r we giving up on people?  I actually thought that way for a while too before I found someone who is very fascinate\n",
      "fuck the new Mother`s Day snl digital short, mother lover, oohhhh cornyness\n",
      " Oh! Don`t you just love these Vodafone series of Ads ... The outdo picturisation ever\n",
      " or so a month. I put my II week`s notice in a little over a week ago, my utmost day is this friday!\n",
      "recorded some of a new song today! u wont hear it for a foresightful time thooo... we might play it at shows tho! so comeeeeee\n",
      "Heading home after a long week. bid someone onther than marketers would follow me\n",
      "Off to see the TinyÃ¯Â¿Â½s, intelligent thoughts about smiles I caught from the radio  and big daft grin all over my face....\n",
      "100\n"
     ]
    }
   ],
   "source": [
    "from textattack.attack_results import AttackResult\n",
    "\n",
    "for result in results:\n",
    "    print(result.perturbed_text())\n",
    "\n",
    "print(len(results))"
   ]
  },
  {
   "cell_type": "code",
   "execution_count": 3,
   "metadata": {},
   "outputs": [],
   "source": [
    "# 假设你有一个攻击结果列表 results\n",
    "attacked_texts = []\n",
    "for result in results:\n",
    "    if isinstance(result, AttackResult):\n",
    "        attacked_texts.append({\n",
    "            \"id\": len(attacked_texts),\n",
    "            \"attacked_text\": result.perturbed_text(),\n",
    "        })\n",
    "\n",
    "attacked_df = pd.DataFrame(attacked_texts)\n",
    "attacked_df.to_csv(\"attacked_text.csv\", index=False)\n",
    "\n"
   ]
  }
 ],
 "metadata": {
  "kernelspec": {
   "display_name": "ycb",
   "language": "python",
   "name": "python3"
  },
  "language_info": {
   "codemirror_mode": {
    "name": "ipython",
    "version": 3
   },
   "file_extension": ".py",
   "mimetype": "text/x-python",
   "name": "python",
   "nbconvert_exporter": "python",
   "pygments_lexer": "ipython3",
   "version": "3.8.19"
  }
 },
 "nbformat": 4,
 "nbformat_minor": 2
}
